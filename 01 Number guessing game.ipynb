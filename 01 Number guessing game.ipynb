{
 "cells": [
  {
   "cell_type": "code",
   "execution_count": null,
   "id": "cfb13ef6-41e3-4bce-acc3-a76e2bb61dfe",
   "metadata": {},
   "outputs": [
    {
     "name": "stdout",
     "output_type": "stream",
     "text": [
      "Welcome to the number guessing game\n",
      "\n",
      "You will start by specifying a range from which a number will be selected and you have to find it within a given number of chances\n",
      "\n"
     ]
    }
   ],
   "source": [
    "import random as rd\n",
    "import math\n",
    "\n",
    "def minimum_guesses(lower_bound,upper_bound):\n",
    "    rang = upper_bound - lower_bound + 1\n",
    "    guesses = math.ceil(math.log2(rang))\n",
    "    return guesses\n",
    "\n",
    "print(\"Welcome to the number guessing game\\n\")\n",
    "print(\"You will start by specifying a range from which a number will be selected and you have to find it within a given number of chances\\n\")\n",
    "\n",
    "try :\n",
    "    r1 = int(input(\"Enter the starting number\"))\n",
    "    r2 = int(input(\"Enter the last number\"))\n",
    "\n",
    "except ValueError:\n",
    "    print(\"Thats not a valid integer\")\n",
    "\n",
    "\n",
    "if (r1 < r2) and (r2 - r1 > 1) :\n",
    "    print(f\"Entered range is {r1}:{r2}\\n\")\n",
    "else:\n",
    "    raise ValueError(\"Starting integer should be less than the last integer by atleast 2 places\")\n",
    "\n",
    "rand = rd.randint(r1,r2)\n",
    "chances = minimum_guesses(r1,r2)\n",
    "\n",
    "print(f\"You have {chances} chances to guess the number. Lets begin!\")\n",
    "\n",
    "for i in range(1,(chances+1)) :\n",
    "\n",
    "    if (i<chances):\n",
    "        try:\n",
    "            g = int(input(f\"Enter your {i} guess \"))\n",
    "        except ValueError :\n",
    "            print(\"Enter a valid integer\\n\")\n",
    "        if (g == rand):\n",
    "            print(\"You are right! You won the game.\")\n",
    "            break\n",
    "        else :\n",
    "            if (g > rand) :\n",
    "                print(\"Try again! You guessed too high\")\n",
    "                continue\n",
    "            else :\n",
    "                print(\"Try again! You guessed too low\")\n",
    "                continue\n",
    "    else:\n",
    "        try:\n",
    "            g = int(input(f\"Enter your final guess \"))\n",
    "        except ValueError :\n",
    "            print(\"Enter a valid integer\\n\")\n",
    "        if (g == rand):\n",
    "            print(\"You are right! You won the game.\")\n",
    "            break\n",
    "        else :\n",
    "            print(\"Sorry you lost the game. Better luck next time!\")\n",
    "    \n"
   ]
  },
  {
   "cell_type": "code",
   "execution_count": null,
   "id": "e640cd80-0344-4b69-bf79-0b621a13a155",
   "metadata": {},
   "outputs": [],
   "source": []
  }
 ],
 "metadata": {
  "kernelspec": {
   "display_name": "Python 3 (ipykernel)",
   "language": "python",
   "name": "python3"
  },
  "language_info": {
   "codemirror_mode": {
    "name": "ipython",
    "version": 3
   },
   "file_extension": ".py",
   "mimetype": "text/x-python",
   "name": "python",
   "nbconvert_exporter": "python",
   "pygments_lexer": "ipython3",
   "version": "3.12.7"
  }
 },
 "nbformat": 4,
 "nbformat_minor": 5
}
